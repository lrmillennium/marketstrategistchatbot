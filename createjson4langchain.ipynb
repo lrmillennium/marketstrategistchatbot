{
 "cells": [
  {
   "cell_type": "code",
   "execution_count": 15,
   "id": "e1b68a10-a964-408a-9cfa-5e52978f57ae",
   "metadata": {
    "tags": []
   },
   "outputs": [],
   "source": [
    "import json\n",
    "\n",
    "def add_newline_to_paragraphs(file_path):\n",
    "    with open(file_path, 'r') as file:\n",
    "        paragraphs = file.read().split('\\n\\n')\n",
    "        paragraphs_with_newline = [p + '\\n\\n' for p in paragraphs]\n",
    "\n",
    "    json_data = {'notes': ''.join(paragraphs_with_newline)}\n",
    "    json_string = json.dumps(json_data)\n",
    "\n",
    "    return json_string\n"
   ]
  },
  {
   "cell_type": "code",
   "execution_count": 16,
   "id": "0ddee805-0b7d-40f9-b293-f91fdc4197a5",
   "metadata": {
    "tags": []
   },
   "outputs": [
    {
     "data": {
      "text/plain": [
       "2"
      ]
     },
     "execution_count": 16,
     "metadata": {},
     "output_type": "execute_result"
    }
   ],
   "source": [
    "file = open ('davidkellynotes.json', 'w')\n",
    "file.write (\"[\\n\")"
   ]
  },
  {
   "cell_type": "code",
   "execution_count": 17,
   "id": "86b1015a-911b-4034-8a21-8abea83a2696",
   "metadata": {
    "tags": []
   },
   "outputs": [],
   "source": [
    "note = add_newline_to_paragraphs ('05012023.txt')"
   ]
  },
  {
   "cell_type": "code",
   "execution_count": 18,
   "id": "c3485ede-8db9-401b-b13d-a1c17795122f",
   "metadata": {
    "tags": []
   },
   "outputs": [
    {
     "data": {
      "text/plain": [
       "13807"
      ]
     },
     "execution_count": 18,
     "metadata": {},
     "output_type": "execute_result"
    }
   ],
   "source": [
    "file.write (note + \",\")"
   ]
  },
  {
   "cell_type": "code",
   "execution_count": 21,
   "id": "ed378d0c-3b43-44dc-b610-4d357ced1d83",
   "metadata": {
    "tags": []
   },
   "outputs": [
    {
     "data": {
      "text/plain": [
       "10067"
      ]
     },
     "execution_count": 21,
     "metadata": {},
     "output_type": "execute_result"
    }
   ],
   "source": [
    "file.write (\"\\n\")\n",
    "note = add_newline_to_paragraphs ('05222023.txt')\n",
    "file.write (note + \",\")"
   ]
  },
  {
   "cell_type": "code",
   "execution_count": 13,
   "id": "c5d668f7-9e13-4e7a-9de9-e7b31dd1fbce",
   "metadata": {
    "tags": []
   },
   "outputs": [],
   "source": [
    "file.flush()"
   ]
  },
  {
   "cell_type": "code",
   "execution_count": 14,
   "id": "444e43c0-1750-4a8c-8a97-d83d84891214",
   "metadata": {
    "tags": []
   },
   "outputs": [],
   "source": [
    "file.close ()"
   ]
  },
  {
   "cell_type": "code",
   "execution_count": null,
   "id": "78997c1e-1e01-4b65-b528-1eaaa06a0423",
   "metadata": {},
   "outputs": [],
   "source": []
  }
 ],
 "metadata": {
  "kernelspec": {
   "display_name": "Python 3 (ipykernel)",
   "language": "python",
   "name": "python3"
  },
  "language_info": {
   "codemirror_mode": {
    "name": "ipython",
    "version": 3
   },
   "file_extension": ".py",
   "mimetype": "text/x-python",
   "name": "python",
   "nbconvert_exporter": "python",
   "pygments_lexer": "ipython3",
   "version": "3.11.3"
  }
 },
 "nbformat": 4,
 "nbformat_minor": 5
}
