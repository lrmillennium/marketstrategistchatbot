{
 "cells": [
  {
   "cell_type": "code",
   "execution_count": 10,
   "id": "5f9109e9-c334-413a-b621-68dca2c131fb",
   "metadata": {
    "tags": []
   },
   "outputs": [],
   "source": [
    "from langchain.chains import RetrievalQA\n",
    "from langchain.chat_models import ChatOpenAI\n",
    "from langchain.vectorstores import DocArrayInMemorySearch\n",
    "from langchain.document_loaders import JSONLoader\n",
    "from IPython.display import display, Markdown\n",
    "from langchain.indexes import VectorstoreIndexCreator\n",
    "from langchain.embeddings import OpenAIEmbeddings\n",
    "from langchain.chains import ConversationalRetrievalChain\n",
    "from langchain.text_splitter import CharacterTextSplitter"
   ]
  },
  {
   "cell_type": "code",
   "execution_count": 11,
   "id": "3dc9b96c-c3e1-43d2-b446-e17e9a16c051",
   "metadata": {
    "tags": []
   },
   "outputs": [
    {
     "name": "stderr",
     "output_type": "stream",
     "text": [
      "Created a chunk of size 2189, which is longer than the specified 1000\n"
     ]
    }
   ],
   "source": [
    "loader = JSONLoader(\n",
    "  file_path = \"allpostings.json\",\n",
    "  jq_schema = \".[].notes\",\n",
    "  text_content=False\n",
    ");\n",
    "docs = loader.load()\n",
    "text_splitter = CharacterTextSplitter (chunk_size=1000, chunk_overlap=0)\n",
    "texts = text_splitter.split_documents (docs)"
   ]
  },
  {
   "cell_type": "code",
   "execution_count": 12,
   "id": "05cc5836-fd95-4bc9-b213-ce91b058eb1c",
   "metadata": {
    "tags": []
   },
   "outputs": [],
   "source": [
    "# openaiembeddings\n",
    "embeddings = OpenAIEmbeddings()\n",
    "db = DocArrayInMemorySearch.from_documents(texts, embeddings)\n",
    "retriever = db.as_retriever(search_type='similarity', search_kwargs={\"k\":2})\n",
    "llm = ChatOpenAI(temperature = 0.0)\n",
    "qa = ConversationalRetrievalChain.from_llm(llm, retriever)\n"
   ]
  },
  {
   "cell_type": "code",
   "execution_count": 14,
   "id": "e98a813d-2dc6-4505-9a07-7926616afe4e",
   "metadata": {
    "tags": []
   },
   "outputs": [
    {
     "data": {
      "text/markdown": [
       "There is a significant risk of a recession starting before the end of the year in the spring of 2023, but it is not certain. As of today, the economy is in a slow-motion slowdown rather than a recession. However, it doesn't take much to tip a slow-motion slowdown into an outright recession. Therefore, investors would be well advised to adopt a well-diversified and cautious approach in the spring of 2023."
      ],
      "text/plain": [
       "<IPython.core.display.Markdown object>"
      ]
     },
     "metadata": {},
     "output_type": "display_data"
    }
   ],
   "source": [
    "chat_history = []\n",
    "query = \"Will U.S. go into recession in year 2023?\"\n",
    "result = qa({\"question\" : query, \"chat_history\": chat_history})\n",
    "display(Markdown(result[\"answer\"]))"
   ]
  },
  {
   "cell_type": "code",
   "execution_count": 15,
   "id": "3c5a0e63-d89f-4ffc-b5ef-1411278cdbe0",
   "metadata": {
    "tags": []
   },
   "outputs": [
    {
     "data": {
      "text/markdown": [
       "Based on the given context, there is no clear answer to how raising the debt ceiling will impact the chance of recession in 2023. The context only suggests that if the debt ceiling is raised before the end of May, the markets would largely ignore the fiscal debate and resume their focus on the risk of recession, the pace of inflation, and the hawkishness of the Federal Reserve. However, if political posturing prevails, there could be growing nervousness about whether such a bill would pass Congress in time to avoid default, and equity market volatility would rise. If Congress fails to increase or suspend the debt ceiling in time, it could lead to a major stock market meltdown, a spike in Treasury interest rates, and a collapse in the dollar, which could increase the likelihood of a near-term recession."
      ],
      "text/plain": [
       "<IPython.core.display.Markdown object>"
      ]
     },
     "metadata": {},
     "output_type": "display_data"
    }
   ],
   "source": [
    "chat_history.append ((query, result[\"answer\"]))\n",
    "query = \"will raising the debt ceiling have a negative or positive impact on the chance of recession in 2023?\"\n",
    "result = qa({\"question\" : query, \"chat_history\": chat_history})\n",
    "display(Markdown(result[\"answer\"]))"
   ]
  },
  {
   "cell_type": "code",
   "execution_count": 16,
   "id": "039a5373-7554-4958-9287-8eb7ebb9e3fc",
   "metadata": {},
   "outputs": [
    {
     "data": {
      "text/markdown": [
       "The article suggests that while there are improved prospects for the U.S. economy, caution is still warranted due to the potential for a recession. The article recommends maintaining broad diversification and adopting a well-diversified and cautious approach in the spring of 2023. It does not recommend a specific asset class to increase portfolio weight in 2023. However, it does suggest that fixed income, in general, should provide both income and diversification as the threat of inflation fades. Additionally, U.S. equities remain much cheaper than at the start of 2022, while a falling dollar should add to the returns on international equities."
      ],
      "text/plain": [
       "<IPython.core.display.Markdown object>"
      ]
     },
     "metadata": {},
     "output_type": "display_data"
    }
   ],
   "source": [
    "chat_history.append ((query, result[\"answer\"]))\n",
    "query = \"what is the best asset class I should increase the portfolio weight in 2023?\"\n",
    "result = qa({\"question\" : query, \"chat_history\": chat_history})\n",
    "display(Markdown(result[\"answer\"]))"
   ]
  },
  {
   "cell_type": "code",
   "execution_count": null,
   "id": "331bce24-f96e-4171-a3d7-fcaddcc6b69a",
   "metadata": {},
   "outputs": [],
   "source": []
  }
 ],
 "metadata": {
  "kernelspec": {
   "display_name": "Python 3 (ipykernel)",
   "language": "python",
   "name": "python3"
  },
  "language_info": {
   "codemirror_mode": {
    "name": "ipython",
    "version": 3
   },
   "file_extension": ".py",
   "mimetype": "text/x-python",
   "name": "python",
   "nbconvert_exporter": "python",
   "pygments_lexer": "ipython3",
   "version": "3.11.3"
  }
 },
 "nbformat": 4,
 "nbformat_minor": 5
}
